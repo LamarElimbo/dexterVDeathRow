{
 "cells": [
  {
   "cell_type": "code",
   "execution_count": 7,
   "metadata": {
    "collapsed": true
   },
   "outputs": [],
   "source": [
    "# Setup\n",
    "\n",
    "NAME=[]\n",
    "AGE=[]\n",
    "SEX=[]\n",
    "OCCUPATION=[]\n",
    "NUM_VICTIMS=[]\n",
    "\n",
    "TABLE_COLUMNS = ['name', 'age', 'sex', 'occupation', 'num_victims']\n",
    "\n",
    "DATABASE={'name':NAME, 'age':AGE, 'sex':SEX, 'occupation':OCCUPATION, 'num_victims':NUM_VICTIMS}\n",
    "\n",
    "VICTIMS_URL = \"http://dexter.wikia.com/wiki/Dexter's_Kill_List\""
   ]
  },
  {
   "cell_type": "code",
   "execution_count": 15,
   "metadata": {
    "collapsed": true
   },
   "outputs": [],
   "source": [
    "# Import libraries\n",
    "\n",
    "from urllib import request\n",
    "from bs4 import BeautifulSoup as soup\n",
    "import pandas as pd"
   ]
  },
  {
   "cell_type": "code",
   "execution_count": 9,
   "metadata": {
    "collapsed": false
   },
   "outputs": [],
   "source": [
    "# Soup the link\n",
    "\n",
    "def soupTheLink(url):\n",
    "    print('souping link', url)\n",
    "    html = request.urlopen(url).read().decode('utf8')\n",
    "    return soup(html, 'lxml')"
   ]
  },
  {
   "cell_type": "code",
   "execution_count": 10,
   "metadata": {
    "collapsed": true
   },
   "outputs": [],
   "source": [
    "# Collect victims' links\n",
    "\n",
    "def collectVictimLinks(url):\n",
    "    souped = soupTheLink(url)\n",
    "    body = souped.find(id='mw-content-text')\n",
    "    for links in body.find_all('a', href=True):\n",
    "        if links['href'] == '/wiki/Mary':\n",
    "            for victim in links.find_next_siblings('a', href=True):\n",
    "                vicLink = victim['href']\n",
    "                if vicLink[:6] == '/wiki/':\n",
    "                    fullLink = 'http://dexter.wikia.com' + vicLink\n",
    "                    collectVictimInfo(fullLink)\n",
    "                else:\n",
    "                    pass"
   ]
  },
  {
   "cell_type": "code",
   "execution_count": 11,
   "metadata": {
    "collapsed": true
   },
   "outputs": [],
   "source": [
    "# Collect victim's info\n",
    "\n",
    "def collectVictimInfo(victimLink):\n",
    "    \n",
    "    DATABASE['name'].append(victimLink[29:])\n",
    "\n",
    "    souped = soupTheLink(victimLink)\n",
    "    try:\n",
    "        table = souped.find('table')\n",
    "        age=0\n",
    "        sex=0\n",
    "        occupation=0\n",
    "        num_victims=0\n",
    "\n",
    "        for infobox in table.find_all('table'):\n",
    "            num_victims=0\n",
    "            for row in infobox.find_all('tr'):\n",
    "                for heading in row.find_all('td'):\n",
    "                    if heading.get_text().strip() == 'Age':\n",
    "                        age=1\n",
    "                        parent = heading.find_parent()\n",
    "                        sibling = parent.find_next_sibling()\n",
    "                        info = sibling.get_text().strip()\n",
    "                        DATABASE['age'].append(info)\n",
    "\n",
    "                    elif heading.get_text().strip() == 'Gender':\n",
    "                        sex=1\n",
    "                        parent = heading.find_parent()\n",
    "                        sibling = parent.find_next_sibling()\n",
    "                        info = sibling.get_text().strip()\n",
    "                        DATABASE['sex'].append(info)\n",
    "\n",
    "                    elif heading.get_text().strip() == 'Profession':\n",
    "                        occupation=1\n",
    "                        parent = heading.find_parent()\n",
    "                        sibling = parent.find_next_sibling()\n",
    "                        info = sibling.get_text().strip()\n",
    "                        DATABASE['occupation'].append(info)\n",
    "\n",
    "                    elif heading.get_text().strip() == 'Number of Victims':\n",
    "                        num_victims=1\n",
    "                        parent = heading.find_parent()\n",
    "                        sibling = parent.find_next_sibling()\n",
    "                        info = sibling.get_text().strip()\n",
    "                        DATABASE['num_victims'].append(info)\n",
    "                        \n",
    "        if age == 0:\n",
    "            DATABASE['age'].append('None')\n",
    "        if sex == 0:\n",
    "            DATABASE['sex'].append('None')\n",
    "        if occupation == 0:\n",
    "            DATABASE['occupation'].append('None')\n",
    "        if num_victims == 0:\n",
    "            DATABASE['num_victims'].append('None')\n",
    "            \n",
    "    except AttributeError:\n",
    "        DATABASE['age'].append('None')\n",
    "        DATABASE['sex'].append('None')\n",
    "        DATABASE['occupation'].append('None')\n",
    "        DATABASE['num_victims'].append('None')"
   ]
  },
  {
   "cell_type": "code",
   "execution_count": 12,
   "metadata": {
    "collapsed": true
   },
   "outputs": [
    {
     "name": "stdout",
     "output_type": "stream",
     "text": [
      "souping link http://dexter.wikia.com/wiki/Dexter's_Kill_List\n",
      "souping link http://dexter.wikia.com/wiki/Dan_Mendell\n",
      "souping link http://dexter.wikia.com/wiki/Juan_Rinez\n",
      "souping link http://dexter.wikia.com/wiki/Robert_Milson\n",
      "souping link http://dexter.wikia.com/wiki/Peter_Thorton\n",
      "souping link http://dexter.wikia.com/wiki/Alex_Timmons\n",
      "souping link http://dexter.wikia.com/wiki/Gene_Marshall\n",
      "souping link http://dexter.wikia.com/wiki/Cindy_Landon\n",
      "souping link http://dexter.wikia.com/wiki/Coleman_Lindquist\n",
      "souping link http://dexter.wikia.com/wiki/Max_Lindquist\n",
      "souping link http://dexter.wikia.com/wiki/Rick_Jensen\n",
      "souping link http://dexter.wikia.com/wiki/Jeff_Linder\n",
      "souping link http://dexter.wikia.com/wiki/Renzo_Sandoval\n",
      "souping link http://dexter.wikia.com/wiki/Carlos_Gutierrez\n",
      "souping link http://dexter.wikia.com/wiki/Dylan_Maddock\n",
      "souping link http://dexter.wikia.com/wiki/Robert_Thatcher\n",
      "souping link http://dexter.wikia.com/wiki/Marcus_White\n",
      "souping link http://dexter.wikia.com/wiki/Oscar_Sota\n",
      "souping link http://dexter.wikia.com/wiki/Joseph_Cepeda\n",
      "souping link http://dexter.wikia.com/wiki/Chad_Carpenter\n",
      "souping link http://dexter.wikia.com/wiki/Shannon_Reynolds\n",
      "souping link http://dexter.wikia.com/wiki/Anthony_Rodrigo\n",
      "souping link http://dexter.wikia.com/wiki/Luke_Wellens\n",
      "souping link http://dexter.wikia.com/wiki/Andy_Jorgen\n",
      "souping link http://dexter.wikia.com/wiki/Rachel_Rhodes\n",
      "souping link http://dexter.wikia.com/wiki/Kevin_Mott\n",
      "souping link http://dexter.wikia.com/wiki/Jerry_Voltic\n",
      "souping link http://dexter.wikia.com/wiki/Sean_Dibberman\n",
      "souping link http://dexter.wikia.com/wiki/Berry_Cooper\n",
      "souping link http://dexter.wikia.com/wiki/Herbert_Washington\n",
      "souping link http://dexter.wikia.com/wiki/Jacob_Wilson\n",
      "souping link http://dexter.wikia.com/wiki/George_Hoss\n",
      "souping link http://dexter.wikia.com/wiki/Olman_Estavez\n",
      "souping link http://dexter.wikia.com/wiki/Rick_Cross\n",
      "souping link http://dexter.wikia.com/wiki/Peter_Matherson\n",
      "souping link http://dexter.wikia.com/wiki/Alan_Elson\n",
      "souping link http://dexter.wikia.com/wiki/Henry_Vortman\n",
      "souping link http://dexter.wikia.com/wiki/Larry_Costes\n",
      "souping link http://dexter.wikia.com/wiki/Marty_Terison\n",
      "souping link http://dexter.wikia.com/wiki/Buck_Forester\n",
      "souping link http://dexter.wikia.com/wiki/Alan_Matherson\n",
      "souping link http://dexter.wikia.com/wiki/Thomas_Hillstat\n",
      "souping link http://dexter.wikia.com/wiki/Larry_Mueller\n",
      "souping link http://dexter.wikia.com/wiki/Leandro_Noriega\n",
      "souping link http://dexter.wikia.com/wiki/Walter_Monroe\n",
      "souping link http://dexter.wikia.com/wiki/Marcetti\n",
      "souping link http://dexter.wikia.com/wiki/Rita_Bennett\n",
      "souping link http://dexter.wikia.com/wiki/Mike_Donovan\n",
      "souping link http://dexter.wikia.com/wiki/Jamie_Jaworski\n",
      "souping link http://dexter.wikia.com/wiki/Matt_Chambers\n",
      "souping link http://dexter.wikia.com/wiki/Jorge_Castillo\n",
      "souping link http://dexter.wikia.com/wiki/Valerie_Castillo\n",
      "souping link http://dexter.wikia.com/wiki/Emmett_Meridian\n",
      "souping link http://dexter.wikia.com/wiki/Brian_Moser\n",
      "souping link http://dexter.wikia.com/wiki/Little_Chino\n",
      "souping link http://dexter.wikia.com/wiki/Roger_Hicks\n",
      "souping link http://dexter.wikia.com/wiki/Ken_Olson\n",
      "souping link http://dexter.wikia.com/wiki/Santos_Jimenez\n",
      "souping link http://dexter.wikia.com/wiki/Jose_Garza\n",
      "souping link http://dexter.wikia.com/wiki/Esteban_and_Teo_Famosa\n",
      "souping link http://dexter.wikia.com/wiki/Esteban_and_Teo_Famosa\n",
      "souping link http://dexter.wikia.com/wiki/James_Doakes\n",
      "souping link http://dexter.wikia.com/wiki/Lila_West\n",
      "souping link http://dexter.wikia.com/wiki/Cal_Rooney\n",
      "souping link http://dexter.wikia.com/wiki/Oscar_Prado\n",
      "souping link http://dexter.wikia.com/wiki/Fred_Bowman\n",
      "souping link http://dexter.wikia.com/wiki/Nathan_Marten\n",
      "souping link http://dexter.wikia.com/wiki/Ethan_Turner\n",
      "souping link http://dexter.wikia.com/wiki/Clemson_Galt\n",
      "souping link http://dexter.wikia.com/wiki/Camilla_Figg\n",
      "souping link http://dexter.wikia.com/wiki/Miguel_Prado\n",
      "souping link http://dexter.wikia.com/wiki/George_King\n",
      "souping link http://dexter.wikia.com/wiki/Benito_Gomez\n",
      "souping link http://dexter.wikia.com/wiki/Zoey_Kruger\n",
      "souping link http://dexter.wikia.com/wiki/Jonathan_Farrow\n",
      "souping link http://dexter.wikia.com/wiki/Stan_Beaudry\n",
      "souping link http://dexter.wikia.com/wiki/Arthur_Mitchell\n",
      "souping link http://dexter.wikia.com/wiki/Rankin\n",
      "souping link http://dexter.wikia.com/wiki/Boyd_Fowler\n",
      "souping link http://dexter.wikia.com/wiki/Dan_Mendell\n",
      "souping link http://dexter.wikia.com/wiki/Lumen_Pierce\n",
      "souping link http://dexter.wikia.com/wiki/Lance_Robinson\n",
      "souping link http://dexter.wikia.com/wiki/Cole_Harmon\n",
      "souping link http://dexter.wikia.com/wiki/Stan_Liddy\n",
      "souping link http://dexter.wikia.com/wiki/Ben_and_Roger\n",
      "souping link http://dexter.wikia.com/wiki/Ben_and_Roger\n",
      "souping link http://dexter.wikia.com/wiki/Joe_Walker\n",
      "souping link http://dexter.wikia.com/wiki/Julio_Benes\n",
      "souping link http://dexter.wikia.com/wiki/Walter_Kenney\n",
      "souping link http://dexter.wikia.com/wiki/Nick\n",
      "souping link http://dexter.wikia.com/wiki/Norm\n",
      "souping link http://dexter.wikia.com/wiki/Steve_Dorsey\n",
      "souping link http://dexter.wikia.com/wiki/Beth_Dorsey\n",
      "souping link http://dexter.wikia.com/wiki/Wormwood\n",
      "souping link http://dexter.wikia.com/wiki/Alberto\n",
      "souping link http://dexter.wikia.com/wiki/Travis_Marshall\n",
      "souping link http://dexter.wikia.com/wiki/Viktor_Baskov\n",
      "souping link http://dexter.wikia.com/wiki/Ray_Speltzer\n",
      "souping link http://dexter.wikia.com/wiki/Unnamed_Hitman\n",
      "souping link http://dexter.wikia.com/wiki/Oleg_Mickic\n",
      "souping link http://dexter.wikia.com/wiki/Clint_McKay\n",
      "souping link http://dexter.wikia.com/wiki/Hector_Estrada\n",
      "souping link http://dexter.wikia.com/wiki/Andrew_Briggs\n",
      "souping link http://dexter.wikia.com/wiki/Ron_Galuzzo\n",
      "souping link http://dexter.wikia.com/wiki/A.J._Yates\n",
      "souping link http://dexter.wikia.com/wiki/Oliver_Saxon\n",
      "souping link http://dexter.wikia.com/wiki/Debra_Morgan\n"
     ]
    }
   ],
   "source": [
    "collectVictimLinks(VICTIMS_URL)"
   ]
  },
  {
   "cell_type": "code",
   "execution_count": 14,
   "metadata": {
    "collapsed": true
   },
   "outputs": [
    {
     "name": "stdout",
     "output_type": "stream",
     "text": [
      "{'occupation': ['Pediatric dentist\\nSerial rapist', 'Pimp', 'DoctorAssociate Professor in Criminal JusticeSerial killer', 'None', 'U.S. Marine Sniper (discharged)', 'Fire Inspector', \"Magician's assistant\", 'None', 'None', 'Unknown', 'None', 'None', 'None', 'None', 'None', 'None', 'None', 'None', 'None', 'None', 'None', 'None', 'None', 'None', 'None', 'None', 'None', 'None', 'None', 'None', 'None', 'None', 'None', 'None', 'None', 'None', 'None', 'None', 'None', 'None', 'None', 'None', 'None', 'None', 'None', 'Former hotel conciergeReal estate agentMother', 'Priest, Teacher', 'Valet', 'Unknown', 'People Smuggler/Car Wrecker', 'Presumably none other than helping her husband', 'Psychiatrist', 'None', 'Enforcer of the Twenty-Ninth Street KingsSerial killer', 'Car Salesman', 'Vigilante', 'Drug DealerTavern Owner', 'Record store clerkDrug trafficker', 'Drug Dealers', 'Drug Dealers', 'Former Detective Sergeant of Miami Metro Homicide', 'None', 'Carnival worker', 'Youth Center Coach', 'Drug dealer', 'Photographer', 'None', 'Aryan Brotherhood Leader\\nCarpenter', 'Miami Metro Police Station Records Supervisor', 'Senior Assistant District Attorney (SADA)', 'Tree trimmerSerial killerTorturer (former)Drug trade', 'Former Boxer', 'Police Officer', 'S&M Photographer', 'Truck Driver', 'None', 'None', 'Dead Animal Pickup OfficerSerial killer\\nSerial rapist', 'Pediatric dentist\\nSerial rapist', 'Unknown', 'None', 'Marine (dishonorably discharged)Head of Security for Jordan Chase\\nSerial rapist', 'Unemployed. Formerly a police officer working in Miami Metro Police, Narcotics division (fired).', 'EMT (Paramedic) (both)', 'EMT (Paramedic) (both)', 'Owner of several Sports Equipment Stores', 'Ex-ConvictGang LeaderSerial Killer', 'Pipe Fitter (retired)Serial Killer', 'MechanicMember of the Locos', 'Motel owner, drug dealer', 'Disciple to the Doomsday KillerUnemployed', 'Disciple to the Doomsday Killer', 'None', 'Immigrant smuggler', 'None', 'Koshka Brotherhood Member', 'Ex-conGroundskeeper at Briar Cemetery', 'Hitman for George Novikov', 'Hitman for Koshka Brotherhood', 'None', 'Drug Kingpin', 'Fencer of stolen goods', 'Sells exercise equipment', 'Cable Guy for Solray CommunicationsSerial Killer', 'None', 'None'], 'num_victims': ['12 (indirectly)', 'At least 2', '8', '3', '4 (3 in the Early Cuts series)', '7', '3 (or more)', '15 (directly)14 (indirectly)', '14 (directly)15 (indirectly)', 'At least 1', 'None', 'None', 'None', 'None', 'None', 'None', 'None', 'None', 'None', 'None', 'None', 'None', 'None', 'None', 'None', 'None', 'None', 'None', 'None', 'None', 'None', 'None', 'None', 'None', 'None', 'None', 'None', 'None', 'None', 'None', 'None', 'None', 'None', 'None', 'None', 'None', '3 (4 in the game; 7 in novels)', '1', '2 killed1 (paralyzed from the neck down)', 'At least 4', 'At least 4', '3 (indirectly)', 'None', '10 (directly)3 (indirectly)', '2', '2', 'At least 4', '1', 'None', 'None', '5 (directly) 3 (indirectly)\\nMore killed in the Black Ops. missions', 'None', '2', 'None', '2', 'None', '2', '1 (directly)at least 5 (indirectly)', 'None', '2 (directly)2 (indirectly)', 'At least 3 (possibly more)', '2', '3', 'None', '1', 'None', 'None', '12', '12 (indirectly)', '2', '4', '12 (indirectly)', 'None', 'At least 2', 'At least 2', '1', 'At least 3 or 4', '16', '1', 'None', 'None', 'None', 'None', 'None', 'None', '2', '3', 'None', 'At least 16 (possibly more)', 'None', '4 (indirectly)Possibly more (mentioned to kill those who disobey him)', 'None', 'At least 2', 'At least 6', 'None', 'None'], 'name': ['Dan_Mendell', 'Juan_Rinez', 'Robert_Milson', 'Peter_Thorton', 'Alex_Timmons', 'Gene_Marshall', 'Cindy_Landon', 'Coleman_Lindquist', 'Max_Lindquist', 'Rick_Jensen', 'Jeff_Linder', 'Renzo_Sandoval', 'Carlos_Gutierrez', 'Dylan_Maddock', 'Robert_Thatcher', 'Marcus_White', 'Oscar_Sota', 'Joseph_Cepeda', 'Chad_Carpenter', 'Shannon_Reynolds', 'Anthony_Rodrigo', 'Luke_Wellens', 'Andy_Jorgen', 'Rachel_Rhodes', 'Kevin_Mott', 'Jerry_Voltic', 'Sean_Dibberman', 'Berry_Cooper', 'Herbert_Washington', 'Jacob_Wilson', 'George_Hoss', 'Olman_Estavez', 'Rick_Cross', 'Peter_Matherson', 'Alan_Elson', 'Henry_Vortman', 'Larry_Costes', 'Marty_Terison', 'Buck_Forester', 'Alan_Matherson', 'Thomas_Hillstat', 'Larry_Mueller', 'Leandro_Noriega', 'Walter_Monroe', 'Marcetti', 'Rita_Bennett', 'Mike_Donovan', 'Jamie_Jaworski', 'Matt_Chambers', 'Jorge_Castillo', 'Valerie_Castillo', 'Emmett_Meridian', 'Brian_Moser', 'Little_Chino', 'Roger_Hicks', 'Ken_Olson', 'Santos_Jimenez', 'Jose_Garza', 'Esteban_and_Teo_Famosa', 'Esteban_and_Teo_Famosa', 'James_Doakes', 'Lila_West', 'Cal_Rooney', 'Oscar_Prado', 'Fred_Bowman', 'Nathan_Marten', 'Ethan_Turner', 'Clemson_Galt', 'Camilla_Figg', 'Miguel_Prado', 'George_King', 'Benito_Gomez', 'Zoey_Kruger', 'Jonathan_Farrow', 'Stan_Beaudry', 'Arthur_Mitchell', 'Rankin', 'Boyd_Fowler', 'Dan_Mendell', 'Lumen_Pierce', 'Lance_Robinson', 'Cole_Harmon', 'Stan_Liddy', 'Ben_and_Roger', 'Ben_and_Roger', 'Joe_Walker', 'Julio_Benes', 'Walter_Kenney', 'Nick', 'Norm', 'Steve_Dorsey', 'Beth_Dorsey', 'Wormwood', 'Alberto', 'Travis_Marshall', 'Viktor_Baskov', 'Ray_Speltzer', 'Unnamed_Hitman', 'Oleg_Mickic', 'Clint_McKay', 'Hector_Estrada', 'Andrew_Briggs', 'Ron_Galuzzo', 'A.J._Yates', 'Oliver_Saxon', 'Debra_Morgan'], 'sex': ['Male', 'Male', 'Male', 'Male', 'Male', 'Male', 'Female', 'Male', 'Male', 'Male', 'None', 'None', 'None', 'None', 'None', 'None', 'None', 'None', 'None', 'None', 'None', 'None', 'None', 'None', 'None', 'None', 'None', 'None', 'None', 'None', 'None', 'None', 'None', 'None', 'None', 'None', 'None', 'None', 'None', 'None', 'None', 'None', 'None', 'None', 'Male', 'Female', 'Male', 'Male', 'Male', 'Male', 'Female', 'Male', 'None', 'Male', 'Male', 'Male', 'Male', 'Male', 'Male', 'Male', 'Male', 'None', 'Male', 'Male', 'Male', 'Male', 'Male', 'Male', 'Female', 'Male', 'Male', 'Male', 'Female', 'Male', 'Male', 'None', 'Male', 'Male', 'Male', 'Female', 'Male', 'Male', 'Male', 'Male', 'Male', 'Male', 'Male', 'Male', 'Male', 'Male', 'Male', 'Female', 'None', 'Male', 'None', 'Male', 'Male', 'Male', 'Male', 'Male', 'Male', 'Male', 'Male', 'Male', 'None', 'None'], 'age': ['36 (at death)', '29 (at death)', \"Mid-50's (at death)\", '20 (at death)', '35 (at death)', '54 (at death)', '36 (at death)', \"40's\", '60s', 'Unknown', 'None', 'None', 'None', 'None', 'None', 'None', 'None', 'None', 'None', 'None', 'None', 'None', 'None', 'None', 'None', 'None', 'None', 'None', 'None', 'None', 'None', 'None', 'None', 'None', 'None', 'None', 'None', 'None', 'None', 'None', 'None', 'None', 'None', 'None', 'Early 30s', '36 (at death)', '42 (at death)', '29 (at death)', '34 - 35', '36 (at death)', '35 (at death)', '46 (at death)', 'None', '35 (at death)', '46 (at death)', '33 (at death)', '57 (at death)', '27 (at death)', '32 (Teo; at death)25 (Esteban; at death)', '32 (Teo; at death)25 (Esteban; at death)', '38 (at death)', 'None', '50s (at death)', '26 (at death)', '23 (at death)', '34 (at death)', '35 (at death)', '41 (at death)', '60s', '53 (at death)', '46 (at death)', '37 (at death)', '34 (at death)', '33 (at death)', '59 (at death)', 'None', '35', '33 (at death)', '36 (at death)', \"Early 30's\", '34 (at death)', '36 (at death)', '56 (at death)', '36 (Ben; at death)42 (Roger; at death)', '36 (Ben; at death)42 (Roger; at death)', '36 (at death)', '34 (at death)', '73 (at death)', '26 (at death)', '41 (at death)', '33 (at death)', '31 (at death)', 'None', '30s (at death)', 'None', '29 (at death)', '32 (at death)', '34 (at death)', '30s to 40s (at death)', '62 (at death)', '64 (at death)', '30s', '48', '30s (at death)', 'None', 'None']}\n"
     ]
    }
   ],
   "source": [
    "print(DATABASE)"
   ]
  },
  {
   "cell_type": "code",
   "execution_count": 13,
   "metadata": {
    "collapsed": false
   },
   "outputs": [
    {
     "name": "stdout",
     "output_type": "stream",
     "text": [
      "1:  106 2:  106 3:  106 4:  106 5:  106\n"
     ]
    }
   ],
   "source": [
    "print('1: ', len(NAME), '2: ', len(AGE), '3: ', len(SEX), '4: ', len(OCCUPATION), '5: ', len(NUM_VICTIMS))"
   ]
  },
  {
   "cell_type": "code",
   "execution_count": 17,
   "metadata": {
    "collapsed": true
   },
   "outputs": [],
   "source": [
    "pd.DataFrame(DATABASE).to_csv('victims.csv', header=True, index=False)"
   ]
  }
 ],
 "metadata": {
  "kernelspec": {
   "display_name": "Python 3",
   "language": "python",
   "name": "python3"
  },
  "language_info": {
   "codemirror_mode": {
    "name": "ipython",
    "version": 3
   },
   "file_extension": ".py",
   "mimetype": "text/x-python",
   "name": "python",
   "nbconvert_exporter": "python",
   "pygments_lexer": "ipython3",
   "version": "3.5.2"
  }
 },
 "nbformat": 4,
 "nbformat_minor": 0
}
