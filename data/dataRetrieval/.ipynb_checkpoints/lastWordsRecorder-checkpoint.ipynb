{
 "cells": [
  {
   "cell_type": "code",
   "execution_count": 1,
   "metadata": {
    "collapsed": false
   },
   "outputs": [],
   "source": [
    "# Setup\n",
    "\n",
    "LAST_WORDS=[]\n",
    "\n",
    "COLUMNS = ['last_words']\n",
    "\n",
    "DATABASE = {'last_words':LAST_WORDS}\n",
    "\n",
    "URL = \"http://www.tdcj.state.tx.us/death_row/dr_executed_offenders.html\""
   ]
  },
  {
   "cell_type": "code",
   "execution_count": 7,
   "metadata": {
    "collapsed": true
   },
   "outputs": [],
   "source": [
    "from bs4 import BeautifulSoup as soup\n",
    "from urllib import request\n",
    "import pandas as pd"
   ]
  },
  {
   "cell_type": "code",
   "execution_count": 3,
   "metadata": {
    "collapsed": true
   },
   "outputs": [],
   "source": [
    "def soupTheLink(url):\n",
    "    print('souping link: ', url)\n",
    "    html = request.urlopen(url).read().decode('utf8')\n",
    "    return soup(html, 'lxml')"
   ]
  },
  {
   "cell_type": "code",
   "execution_count": 4,
   "metadata": {
    "collapsed": false
   },
   "outputs": [],
   "source": [
    "def getInfo(url):\n",
    "    \n",
    "    souped = soupTheLink(url)\n",
    "    body = souped.find(id='body')\n",
    "    table = body.find('table')\n",
    "    for row in table.find_all('tr'):\n",
    "        print('new victim')\n",
    "        try:\n",
    "            for column in row.find_all('td'):\n",
    "                for title in column.find_all('title'):\n",
    "                    titleText = title.get_text().lower()\n",
    "                    if titleText == 'last statement':\n",
    "                        link = column['href']                        \n",
    "                        soupTheLink(link)\n",
    "        except AttributeError:\n",
    "            pass"
   ]
  },
  {
   "cell_type": "code",
   "execution_count": 5,
   "metadata": {
    "collapsed": true
   },
   "outputs": [
    {
     "name": "stdout",
     "output_type": "stream",
     "text": [
      "souping link:  http://www.dexterwiki.com/page/Dexter's+Victims\n",
      "new victim\n",
      "new victim\n",
      "new victim\n",
      "new victim\n",
      "name:  Victim name: Mike Donovan\n",
      "last_words:  Victim's last words: \"I couldn't help myself, I couldn't please you have to understand\" \n",
      "new victim\n",
      "sibling name:  James Jaworski\n",
      "sibling last_words:  : \" Ok, I did her...in a movie, a snuff film, but I'm not sorry.\" \n",
      "new victim\n",
      "name:  Victim name: Matt Chambers \n",
      "sibling last_words:  : Victims Defense \"I was set up... I didn't do anything.\" Victims Confession \"It was me... only it wasn't me. It was the booze... it takes me over. I'm sorry.. really i'm so sorry.\" \n",
      "new victim\n",
      "name:  Victim name: Mary, AKA Angel of Death\n",
      "sibling last_words:  : \"I helped them, all of them. I took their pain away.\" \n",
      "new victim\n",
      "name:  Victim name: Jorge Castillo\n",
      "sibling last_words:  : \"We share the same dream. That's it\" \n",
      "new victim\n",
      "name:  Victim Name: Valerie Castillo\n",
      "sibling last_words:  : \"We share the same dreams. That's it.\" \n",
      "new victim\n",
      "name:  Victim name: Alex Timmons\n",
      "sibling last_words:  : \"Yes, I did it. Is that what you want to hear?\" \n",
      "new victim\n",
      "name:  Victim Name:Gene Marshall\n",
      "last_words:  Victim's last words: \"Have you ever watched someone burn alive?\" \n",
      "new victim\n",
      "name:  Victim name: Cindy Landon \n",
      "last_words:  Victim's last words: \"I'll f**** you if you let me go.\" \n",
      "new victim\n",
      "name:  Victim Name: Dr. Emmett Meridian \n",
      "sibling last_words:  : None. Blamed the killings on \"mother issues\"  \n",
      "new victim\n",
      "name:  Episode: \"Born Free\"Victim name: Rudy Cooper aka Brian Moser\n",
      "sibling last_words:  : \"You're the one that needs setting free, little brother. Your life is a lie. People you've been....\" \n",
      "new victim\n",
      "new victim\n",
      "new victim\n",
      "new victim\n",
      "name:  Episode: \"It's Alive\"Victim Name: Jimmy SensioAge/Occupation: Shop owner and voodoo priest.Where/how Dexter stalks victim: Dexter knew about Jimmy and that he would be Dexter's new next victim as soon as he could escape Doakes for a night. He stalks him in and around his Voodoo Shoppe.Why victim deserves it: Jimmy had been poisoning potions that he sold to the cursed victims with ricin.Dexter's kill methods and rituals: Shrink wrap and duct tape, sedation syringe.Victim's last words: \"Madolee curses you!\"Location of attempted killing: Jimmy's Voodoo ShoppeClose calls/slip-ups: After the priest mumbles some words in Haitian that could have been interpreted as some type of curse, Dexter turns to pick up his knife. When he tried to stab the priest, he missed by a mere inch, striking the knife into the wood next to the priest's head. Dexter mouths the words \"what the f***,\" walks around the table, and says \"Let that be a lesson to you\" and lets the priest go.\n",
      "sibling last_words:  : \"Madolee curses you!\" \n",
      "new victim\n",
      "name:  Victim Name:Lil' Chino\n",
      "last_words:  Victim's last words:\"You kill me, what do you leave behind?\" \n",
      "new victim\n",
      "name:  Episode: \"An Inconvenient Lie\"Victim name: Roger Hicks \n",
      "sibling last_words:  : She is not worth it, you're better of without that c***! \n",
      "new victim\n",
      "name:  Victim Name:Ken Olson\n",
      "last_words:  Victim's last words: \"I knew you weren't going to kill me.\" Quite ironic. \n",
      "new victim\n",
      "name:  Victim name:\n",
      "last_words:  Victim's last words: \"I'll f******* kill you.\"\n",
      "new victim\n",
      "name:  Victim Name: Juan Rinez\n",
      "sibling last_words:  : Unknown. \n",
      "new victim\n",
      "sibling name:  Jose Garza, aka Christopher Harlow\n",
      "sibling last_words:  : None - he was never brought back to consciousness as Doakes was present. \n",
      "new victim\n",
      "name:  Victim Name: Estaban and Chico\n",
      "sibling last_words:  : None. \n",
      "new victim\n",
      "name:  Victim Name: Lila West a.k.a. Lila Tournay\n",
      "sibling last_words:  :\"Don't do this\" \n",
      "new victim\n",
      "new victim\n",
      "new victim\n",
      "new victim\n",
      "name:  Victim name: Oscar Prado\n",
      "sibling last_words:  : \"Who are you?\" \n",
      "new victim\n",
      "name:  Victim Name: Unknown\n",
      "sibling last_words:  : Unknown \n",
      "new victim\n",
      "name:  Victim Name: Fred Bowman aka \"Freebo\" \n",
      "sibling last_words:  : no..last Sunday no...I was getting high with Sherry..or Carrie shes ah.. shes ah hell of a f... \n",
      "new victim\n",
      "name:  Victim name: Nathan Marten\n",
      "sibling last_words:  : \"ugh.............\" \n",
      "new victim\n",
      "name:  Victim Name: Ethan Turner \n",
      "sibling last_words:  : \"Hey..ugh-\" \n",
      "new victim\n",
      "name:  Victim Name: Clemson Galt \n",
      "sibling last_words:  : \"No. You got me mixed up with somebody else\". \n",
      "new victim\n",
      "name:  Victim Name: Camilla Figg \n",
      "sibling last_words:  : \"You finally brought me the perfect pie\" and then,  \n",
      "new victim\n",
      "name:  Victim Name:Billy Fleeter \n",
      "sibling last_words:  : 1st) \"What the ****?\" 2nd) \"Who are you?\"  \n",
      "new victim\n",
      "name:  Victim Name: Miguel Prado\n",
      "sibling last_words:  : \"You're a little freak! You think I'm done with you? You think this ends here? It doesnt!\" \n",
      "new victim\n",
      "name:  Victim name: George King\n",
      "sibling last_words:  : \" Let's hope your this talkative once I get my tools\" \n",
      "new victim\n",
      "new victim\n",
      "new victim\n",
      "name:  Victim name: Benito \"Benny\" Gomez\n",
      "sibling last_words:  :\" I know you\" \n",
      "new victim\n",
      "sibling name:   \n",
      "sibling last_words:  : \"You will choose your life over theirs\" \n",
      "new victim\n",
      "name:  Victim name: Jonathan Farrow\n",
      "sibling last_words:  :  \n",
      "new victim\n",
      "name:  Episode: \"The Getaway\"Victim name:Arthur Mitchell, AKA: The Trinity Killer\n",
      "sibling last_words:  : \"It's already over\" \"Could you?\" \"Thank you.\"  \n",
      "new victim\n",
      "name:  Episode: Victim name:\n",
      "sibling last_words:  :  \n",
      "new victim\n",
      "name:  Episode:My Bad                               Victim name: Unknown (Bathroom Prick)\n",
      "sibling last_words:  : \"Well I'm sorry for your loss, But your dead wife can suck my ****! \n",
      "new victim\n",
      "name:   Episode: Practically Perfect Victim name: Boyd FowlerAge/Occupation: Late 20's early 30's and he picked up dead animals off the side of the roadsWhere/how Dexter stalks victim: He acts like somebody who is really in need of a job and new in town and wins the trust and gets a job right along side Boyd.Why victim deserves it: Because he was part of the barrel gang who raped tortured and killed young girls and shoved there bodies in barrels filled with famaldihyde Victim's victims: 12 girls all young and all blonde there 13th victim would have been Lumen if Dexter would have not found her and saved her life.Dexter's kill methods and rituals: He did not have plastic wrap at his disposal so he bound Boyd with duck tape insteadVictim's last words: \"You don't know what you are getting into.\"Dexter's last words to victim:\" I want my wife back, but this will have to do.\"Location of killing:Boyd's house in the basement I'm pretty sureClose calls/slip-ups:well no slip ups but Lumen does see Dexter kill Boyd making it hard for Dexter to just let her go seeing as she saw his face and could ID him as Boyd's murderer \n",
      "sibling last_words:  : \"You don't know what you are getting into.\" \n",
      "new victim\n",
      "name:   Episode: Everything Is Illumenated Victim name:Dan MendelAge/Occupation:Later 30's Early 40's and he is a dentist for kidsWhere/how Dexter stalks victim: Does not stalk him at allWhy victim deserves it:He is part of the Barrel Girls murder gang and is responsible for at least 12 murders and rape victimsVictim's victims:At least 12 blond Young innocent girlsDexter's kill methods and rituals: Not his usual he breaks his neckVictim's last words: \"There gonna find you.\" \"You C*nt.Dexter's last words to victim:\"Die Time.\"Location of killing:An old warehouseClose calls/slip-ups: almost gets caught because the shots that Mandel took from Lumen were called in and the police were arriving on the scene any minute\n",
      "sibling last_words:  : \"There gonna find you.\" \"You C*nt. \n",
      "new victim\n",
      "new victim\n",
      "new victim\n",
      "new victim\n",
      "new victim\n",
      "new victim\n",
      "new victim\n",
      "new victim\n",
      "new victim\n",
      "new victim\n",
      "new victim\n",
      "new victim\n",
      "new victim\n",
      "new victim\n",
      "new victim\n",
      "new victim\n",
      "new victim\n",
      "new victim\n",
      "new victim\n",
      "new victim\n",
      "new victim\n",
      "new victim\n",
      "new victim\n",
      "new victim\n",
      "new victim\n",
      "new victim\n",
      "new victim\n",
      "new victim\n",
      "new victim\n",
      "new victim\n",
      "new victim\n",
      "new victim\n",
      "new victim\n",
      "new victim\n",
      "new victim\n",
      "new victim\n",
      "new victim\n",
      "new victim\n",
      "new victim\n",
      "new victim\n",
      "new victim\n",
      "new victim\n",
      "new victim\n",
      "new victim\n",
      "new victim\n",
      "new victim\n",
      "new victim\n",
      "new victim\n",
      "new victim\n",
      "new victim\n",
      "new victim\n",
      "new victim\n",
      "new victim\n",
      "new victim\n",
      "new victim\n",
      "new victim\n",
      "new victim\n",
      "new victim\n",
      "new victim\n",
      "new victim\n",
      "new victim\n",
      "new victim\n",
      "new victim\n",
      "new victim\n",
      "new victim\n",
      "new victim\n",
      "new victim\n",
      "new victim\n",
      "new victim\n",
      "new victim\n",
      "new victim\n",
      "new victim\n",
      "new victim\n",
      "new victim\n",
      "new victim\n",
      "new victim\n",
      "new victim\n",
      "new victim\n",
      "new victim\n",
      "new victim\n",
      "new victim\n",
      "new victim\n",
      "new victim\n",
      "new victim\n",
      "new victim\n",
      "new victim\n",
      "new victim\n",
      "new victim\n",
      "new victim\n",
      "new victim\n",
      "new victim\n",
      "new victim\n",
      "new victim\n",
      "new victim\n",
      "new victim\n",
      "new victim\n",
      "new victim\n",
      "new victim\n",
      "new victim\n",
      "new victim\n",
      "new victim\n",
      "new victim\n"
     ]
    }
   ],
   "source": [
    "getInfo(URL)"
   ]
  },
  {
   "cell_type": "code",
   "execution_count": 116,
   "metadata": {
    "collapsed": true
   },
   "outputs": [
    {
     "name": "stdout",
     "output_type": "stream",
     "text": [
      "{'name': ['Victim name: Mike Donovan', 'James Jaworski', 'Victim name: Matt Chambers ', 'Victim name: Mary, AKA Angel of Death', 'Victim name: Jorge Castillo', 'Victim name: Alex Timmons', 'Victim name: Cindy Landon ', 'Episode: \"Born Free\"Victim name: Rudy Cooper aka Brian Moser', 'Episode: \"An Inconvenient Lie\"Victim name: Roger Hicks ', 'Victim name:', 'Jose Garza, aka Christopher Harlow', 'Victim name: Oscar Prado', 'Victim name: Nathan Marten', 'Victim name: George King', 'Victim name: Benito \"Benny\" Gomez', ' ', 'Victim name: Jonathan Farrow', 'Episode: \"The Getaway\"Victim name:Arthur Mitchell, AKA: The Trinity Killer', 'Episode: Victim name:', 'Episode:My Bad                               Victim name: Unknown (Bathroom Prick)', ' Episode: Practically Perfect Victim name: Boyd FowlerAge/Occupation: Late 20\\'s early 30\\'s and he picked up dead animals off the side of the roadsWhere/how Dexter stalks victim: He acts like somebody who is really in need of a job and new in town and wins the trust and gets a job right along side Boyd.Why victim deserves it: Because he was part of the barrel gang who raped tortured and killed young girls and shoved there bodies in barrels filled with famaldihyde Victim\\'s victims: 12 girls all young and all blonde there 13th victim would have been Lumen if Dexter would have not found her and saved her life.Dexter\\'s kill methods and rituals: He did not have plastic wrap at his disposal so he bound Boyd with duck tape insteadVictim\\'s last words: \"You don\\'t know what you are getting into.\"Dexter\\'s last words to victim:\" I want my wife back, but this will have to do.\"Location of killing:Boyd\\'s house in the basement I\\'m pretty sureClose calls/slip-ups:well no slip ups but Lumen does see Dexter kill Boyd making it hard for Dexter to just let her go seeing as she saw his face and could ID him as Boyd\\'s murderer ', ' Episode: Everything Is Illumenated Victim name:Dan MendelAge/Occupation:Later 30\\'s Early 40\\'s and he is a dentist for kidsWhere/how Dexter stalks victim: Does not stalk him at allWhy victim deserves it:He is part of the Barrel Girls murder gang and is responsible for at least 12 murders and rape victimsVictim\\'s victims:At least 12 blond Young innocent girlsDexter\\'s kill methods and rituals: Not his usual he breaks his neckVictim\\'s last words: \"There gonna find you.\" \"You C*nt.Dexter\\'s last words to victim:\"Die Time.\"Location of killing:An old warehouseClose calls/slip-ups: almost gets caught because the shots that Mandel took from Lumen were called in and the police were arriving on the scene any minute'], 'last_words': ['Victim\\'s last words: \"I couldn\\'t help myself, I couldn\\'t please you have to understand\" ', ': \" Ok, I did her...in a movie, a snuff film, but I\\'m not sorry.\"', ': Victims Defense \"I was set up... I didn\\'t do anything.\" Victims Confession \"It was me... only it wasn\\'t me. It was the booze... it takes me over. I\\'m sorry.. really i\\'m so sorry.\"', ': \"I helped them, all of them. I took their pain away.\"', ': \"We share the same dream. That\\'s it\"', ': \"We share the same dreams. That\\'s it.\"', ': \"Yes, I did it. Is that what you want to hear?\"', 'Victim\\'s last words: \"Have you ever watched someone burn alive?\" ', 'Victim\\'s last words: \"I\\'ll f**** you if you let me go.\" ', ': None. Blamed the killings on \"mother issues\" ', ': \"You\\'re the one that needs setting free, little brother. Your life is a lie. People you\\'ve been....\"', ': \"Madolee curses you!\"', 'Victim\\'s last words:\"You kill me, what do you leave behind?\" ', \": She is not worth it, you're better of without that c***!\", 'Victim\\'s last words: \"I knew you weren\\'t going to kill me.\" Quite ironic. ', 'Victim\\'s last words: \"I\\'ll f******* kill you.\"', ': Unknown.', ': None - he was never brought back to consciousness as Doakes was present.', ': None.', ':\"Don\\'t do this\"', ': \"Who are you?\"', ': Unknown', ': no..last Sunday no...I was getting high with Sherry..or Carrie shes ah.. shes ah hell of a f...', ': \"ugh.............\"', ': \"Hey..ugh-\"', ': \"No. You got me mixed up with somebody else\".', ': \"You finally brought me the perfect pie\" and then, ', ': 1st) \"What the ****?\" 2nd) \"Who are you?\" ', ': \"You\\'re a little freak! You think I\\'m done with you? You think this ends here? It doesnt!\"', ': \" Let\\'s hope your this talkative once I get my tools\"', ':\" I know you\"', ': \"You will choose your life over theirs\"', ': ', ': \"It\\'s already over\" \"Could you?\" \"Thank you.\" ', ': ', ': \"Well I\\'m sorry for your loss, But your dead wife can suck my ****!', ': \"You don\\'t know what you are getting into.\"', ': \"There gonna find you.\" \"You C*nt.']}\n"
     ]
    }
   ],
   "source": [
    "print(DATABASE)"
   ]
  },
  {
   "cell_type": "code",
   "execution_count": 6,
   "metadata": {
    "collapsed": false
   },
   "outputs": [
    {
     "name": "stdout",
     "output_type": "stream",
     "text": [
      "1:  38 2:  38\n"
     ]
    }
   ],
   "source": [
    "print('1: ', len(NAME), '2: ', len(LAST_WORDS))"
   ]
  },
  {
   "cell_type": "code",
   "execution_count": 8,
   "metadata": {
    "collapsed": true
   },
   "outputs": [],
   "source": [
    "pd.DataFrame(DATABASE).to_csv('last_words.csv', header=True, index=False)"
   ]
  }
 ],
 "metadata": {
  "kernelspec": {
   "display_name": "Python 3",
   "language": "python",
   "name": "python3"
  },
  "language_info": {
   "codemirror_mode": {
    "name": "ipython",
    "version": 3
   },
   "file_extension": ".py",
   "mimetype": "text/x-python",
   "name": "python",
   "nbconvert_exporter": "python",
   "pygments_lexer": "ipython3",
   "version": "3.5.2"
  }
 },
 "nbformat": 4,
 "nbformat_minor": 0
}
