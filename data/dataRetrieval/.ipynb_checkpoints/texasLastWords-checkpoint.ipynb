{
 "cells": [
  {
   "cell_type": "code",
   "execution_count": null,
   "metadata": {
    "collapsed": true
   },
   "outputs": [],
   "source": [
    "# Setup\n",
    "\n",
    "LAST_WORDS=[]\n",
    "\n",
    "COLUMNS = ['last_words']\n",
    "\n",
    "DATABASE = {'last_words':LAST_WORDS}\n",
    "\n",
    "URL = \"http://www.tdcj.state.tx.us/death_row/dr_executed_offenders.html\""
   ]
  },
  {
   "cell_type": "code",
   "execution_count": null,
   "metadata": {
    "collapsed": true
   },
   "outputs": [],
   "source": [
    "from bs4 import BeautifulSoup as soup\n",
    "from urllib import request\n",
    "import pandas as pd"
   ]
  },
  {
   "cell_type": "code",
   "execution_count": null,
   "metadata": {
    "collapsed": true
   },
   "outputs": [],
   "source": [
    "def soupTheLink(url):\n",
    "    print('souping link: ', url)\n",
    "    html = request.urlopen(url).read().decode('utf8')\n",
    "    return soup(html, 'lxml')\n",
    "\n",
    "def getInfo(url):\n",
    "    \n",
    "    count = 0\n",
    "    \n",
    "    souped = soupTheLink(url)\n",
    "    body = souped.find(id='body')\n",
    "    table = body.find('table')\n",
    "    for row in table.find_all('tr'):\n",
    "        print('new victim')\n",
    "        try:\n",
    "            for links in row.find_all('a', href=True):\n",
    "                link = links['href']\n",
    "                if link[-9:] == 'last.html':\n",
    "                    fullLink = 'http://www.tdcj.state.tx.us/death_row/' + link\n",
    "                    getLastWords(fullLink)\n",
    "                    count+=1\n",
    "                    print('count: ', count)\n",
    "\n",
    "        except AttributeError:\n",
    "            pass\n",
    "\n",
    "def getLastWords(url):\n",
    "    souped = soupTheLink(url)\n",
    "    finalStatement=[]\n",
    "    body = souped.find(id='body')\n",
    "    for heading in body.find_all('p'):\n",
    "        try:\n",
    "            header = heading.get_text().lower()\n",
    "            if header[:4] == 'last':\n",
    "                for phrase in heading.find_next_siblings():\n",
    "                    finalStatement.append(phrase)\n",
    "                    \n",
    "        except AttributeError:\n",
    "            pass\n",
    "    DATABASE['last_words'].append(finalStatement)"
   ]
  },
  {
   "cell_type": "code",
   "execution_count": null,
   "metadata": {
    "collapsed": true
   },
   "outputs": [],
   "source": [
    "getInfo(URL)"
   ]
  },
  {
   "cell_type": "code",
   "execution_count": null,
   "metadata": {
    "collapsed": true
   },
   "outputs": [],
   "source": [
    "pd.DataFrame(DATABASE).to_csv('texas.csv', header=True, index=False)"
   ]
  }
 ],
 "metadata": {
  "kernelspec": {
   "display_name": "Python 3",
   "language": "python",
   "name": "python3"
  },
  "language_info": {
   "codemirror_mode": {
    "name": "ipython",
    "version": 3
   },
   "file_extension": ".py",
   "mimetype": "text/x-python",
   "name": "python",
   "nbconvert_exporter": "python",
   "pygments_lexer": "ipython3",
   "version": "3.5.2"
  }
 },
 "nbformat": 4,
 "nbformat_minor": 0
}
